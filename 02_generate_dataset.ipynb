{
 "cells": [
  {
   "cell_type": "markdown",
   "metadata": {},
   "source": [
    "# Data Set\n",
    "\n",
    "### Description\n",
    "The purpose is to create a dataset from product images on SSENSE website.\n",
    "\n",
    "### Abstract:\n",
    "\n",
    "* 1. Resizing all images to 224px x 224px with the correct aspect ratio.\n",
    "* 2. Converting all images to gray-scale (Black & White).\n",
    "* 3. Storing all images in numpy dataset for future use.\n",
    "\n",
    "### Libraries:\n",
    "**PIL:** To resize images and to convert them into gray scale.<br>\n",
    "**NUMPY:** To store converted images into a numpy array.<br>\n",
    "**Keras:** To convert images into a Keras friendly format.<br>\n",
    "**Matplotlib:** To plot a sample image from dataset."
   ]
  },
  {
   "cell_type": "code",
   "execution_count": 2,
   "metadata": {},
   "outputs": [
    {
     "name": "stderr",
     "output_type": "stream",
     "text": [
      "Using TensorFlow backend.\n"
     ]
    }
   ],
   "source": [
    "import os, sys\n",
    "from PIL import Image\n",
    "import numpy as np\n",
    "from keras.preprocessing import image\n",
    "import matplotlib.pyplot as plt\n",
    "from os import walk\n",
    "from tqdm import tnrange, tqdm_notebook"
   ]
  },
  {
   "cell_type": "markdown",
   "metadata": {},
   "source": [
    "<hr>\n",
    "\n",
    "#### Retrieving files\n",
    "\n",
    "Retrieving the list of images..."
   ]
  },
  {
   "cell_type": "code",
   "execution_count": 3,
   "metadata": {},
   "outputs": [
    {
     "name": "stdout",
     "output_type": "stream",
     "text": [
      "<class 'list'>\n",
      "['161230M164001.jpg', '161230M164003.jpg', '161246F108001.jpg', '161246F109003.jpg', '161246F110006.jpg', '161680F007001.jpg', '161680F009001.jpg', '161680F009002.jpg', '161680F009003.jpg', '161680F011005.jpg']\n",
      "Total number of files:  18256\n"
     ]
    }
   ],
   "source": [
    "mypath = \".\\\\raw_data\\\\\"\n",
    "f = []\n",
    "\n",
    "for (dirpath, dirnames, filenames) in walk(mypath):\n",
    "    f.extend(filenames)\n",
    "    break\n",
    "print(type(f))\n",
    "\n",
    "# printing a sample list of retrieved images\n",
    "print(f[0:10])\n",
    "\n",
    "# printing the total number of images\n",
    "print(\"Total number of files: \", len(f))"
   ]
  },
  {
   "cell_type": "markdown",
   "metadata": {},
   "source": [
    "<hr>\n",
    "\n",
    "#### Resizing / Gray Scale\n",
    "\n",
    "In this cell, we convert all images into gray scale *desired_size x desired_size*."
   ]
  },
  {
   "cell_type": "code",
   "execution_count": 69,
   "metadata": {},
   "outputs": [
    {
     "data": {
      "application/vnd.jupyter.widget-view+json": {
       "model_id": "1a03c295bd7b49cbae2ad3751c37b6d5",
       "version_major": 2,
       "version_minor": 0
      },
      "text/plain": [
       "HBox(children=(IntProgress(value=0, description='File Conversion', max=18257, style=ProgressStyle(description_…"
      ]
     },
     "metadata": {},
     "output_type": "display_data"
    },
    {
     "name": "stdout",
     "output_type": "stream",
     "text": [
      "Error: 'C:\\Users\\kaveh.bakhtiyari\\JupyterProjects\\ImageSearch-ACE\\raw_data\\191216M192005.jpg'\n"
     ]
    }
   ],
   "source": [
    "## resizing and turing into Black & White\n",
    "\n",
    "#assigning new path to store processed images\n",
    "new_path = os.path.dirname(mypath) + \"\\\\data\\\\\"\n",
    "\n",
    "desired_size = 224 #squared \n",
    "\n",
    "for index in tqdm_notebook(range(len(f)), desc='File Conversion', leave=True):\n",
    "    infile = f[index]\n",
    "    outfile = new_path + os.path.splitext(infile)[0] + \".jpg\"\n",
    "    infile = mypath + \"\\\\\" + infile\n",
    "    try:\n",
    "        im = Image.open(infile)\n",
    "        \n",
    "        # converting into gray-scale\n",
    "        im = im.convert('L')\n",
    "        \n",
    "        # resizing with the original aspect ratio\n",
    "        #im.thumbnail(desired_size, Image.ANTIALIAS)\n",
    "        old_size = im.size\n",
    "                \n",
    "        ratio = float(desired_size)/max(old_size)\n",
    "        new_size = tuple([int(x*ratio) for x in old_size])\n",
    "        im = im.resize(new_size, Image.ANTIALIAS)\n",
    "        \n",
    "        # creating a blank white sheet\n",
    "        new_im = Image.new(\"RGB\", (desired_size,desired_size), (255,255,255))\n",
    "        \n",
    "        # pasting the resized image into this sheet.\n",
    "        new_im.paste(im, ((desired_size-new_size[0])//2,\n",
    "                    (desired_size-new_size[1])//2))\n",
    "        new_im.save(outfile, \"JPEG\")\n",
    "    except IOError:\n",
    "        print (\"Error: '%s'\" % infile)"
   ]
  },
  {
   "cell_type": "markdown",
   "metadata": {},
   "source": [
    "<hr>\n",
    "\n",
    "#### Generate Dataset\n",
    "\n",
    "Since all images have been converted in the previous cell, now their raw data (pixel information) would be stored into numpy arrays.\n",
    "\n",
    "* 1. frames_data: contains the raw pixel information\n",
    "* 2. frames_ids: contains the product IDs, which matches the index of frames_data.\n",
    "\n",
    "Once a row of data (a product) is selected from *frames_data*, its products ID can be queried from *frames_ids*.\n"
   ]
  },
  {
   "cell_type": "code",
   "execution_count": 7,
   "metadata": {},
   "outputs": [
    {
     "name": "stdout",
     "output_type": "stream",
     "text": [
      "Type:  <class 'list'>\n",
      "Length:  18256\n",
      "Sample set:  ['161230M164001.jpg', '161230M164003.jpg', '161246F108001.jpg', '161246F109003.jpg', '161246F110006.jpg', '161680F007001.jpg', '161680F009001.jpg', '161680F009002.jpg', '161680F009003.jpg', '161680F011005.jpg']\n",
      "Frame shape:  (18256, 224, 224, 1)\n"
     ]
    },
    {
     "data": {
      "application/vnd.jupyter.widget-view+json": {
       "model_id": "5170a9aeb16f4f92b74e451569d0ff5f",
       "version_major": 2,
       "version_minor": 0
      },
      "text/plain": [
       "HBox(children=(IntProgress(value=0, description='Loading images into dataset', max=18256, style=ProgressStyle(…"
      ]
     },
     "metadata": {},
     "output_type": "display_data"
    },
    {
     "name": "stdout",
     "output_type": "stream",
     "text": [
      "\n",
      "Saving Files, please wait...\n",
      "Files were saved successfully.\n"
     ]
    }
   ],
   "source": [
    "#Generate dataset\n",
    "mypath = \".\\\\data\"\n",
    "dataset_file = os.path.dirname(mypath) + \"\\\\dataset_data.npy\"\n",
    "dataset_ids = os.path.dirname(mypath) + \"\\\\dataset_ids.npy\"\n",
    "f = []\n",
    "\n",
    "for (dirpath, dirnames, filenames) in walk(mypath):\n",
    "    f.extend(filenames)\n",
    "    break\n",
    "print(\"Type: \", type(f))\n",
    "print(\"Length: \", len(f))\n",
    "print(\"Sample set: \", f[0:10])\n",
    "\n",
    "# creating the numpy arrays\n",
    "frames_data = np.empty((len(f), 224, 224, 1))\n",
    "frames_ids = np.empty(len(f), dtype=\"U20\")\n",
    "\n",
    "print(\"Frame shape: \", frames_data.shape)\n",
    "for index in tqdm_notebook(range(len(f)), desc='Loading images into dataset', leave=True):\n",
    "    infile = f[index]\n",
    "    infile = mypath + \"\\\\\" + infile\n",
    "    img = image.load_img(infile, target_size=(224, 224))\n",
    "    x = image.img_to_array(img)[:,:,0]\n",
    "    frames_data[index,:,:,0] = x\n",
    "    frames_ids[index] = os.path.splitext(f[index])[0]\n",
    "\n",
    "#frames_data = frames_data.reshape(frames_data.shape[0],frames_data.shape[1],frames_data.shape[2], 1)\n",
    "\n",
    "# saving numpy arrays into files\n",
    "print(\"Saving Files, please wait...\")\n",
    "try:\n",
    "    np.save(dataset_file, frames_data, allow_pickle=True, fix_imports=True)\n",
    "    np.save(dataset_ids, frames_ids, allow_pickle=True, fix_imports=True)\n",
    "except:\n",
    "    print(\"An error occured\")\n",
    "else:\n",
    "    print(\"Files were saved successfully.\")"
   ]
  },
  {
   "cell_type": "markdown",
   "metadata": {},
   "source": [
    "<hr>\n",
    "\n",
    "#### Sample Checking\n",
    "\n",
    "Once the data is stored, here we check to plot a product from the numpy array to check that it is stored correctly."
   ]
  },
  {
   "cell_type": "code",
   "execution_count": 9,
   "metadata": {},
   "outputs": [
    {
     "data": {
      "image/png": "[encoded data removed]",
      "text/plain": [
       "<Figure size 432x288 with 1 Axes>"
      ]
     },
     "metadata": {
      "needs_background": "light"
     },
     "output_type": "display_data"
    }
   ],
   "source": [
    "# plotting a sample image from frame\n",
    "sample_product = 540\n",
    "\n",
    "# getting data from frames_data\n",
    "plt.imshow(frames_data[sample_product,:,:,0])\n",
    "\n",
    "# getting the product id as a label from frames_ids\n",
    "plt.xlabel(frames_ids[sample_product])\n",
    "plt.gray()\n",
    "plt.show()"
   ]
  },
  {
   "cell_type": "code",
   "execution_count": null,
   "metadata": {},
   "outputs": [],
   "source": []
  }
 ],
 "metadata": {
  "kernelspec": {
   "display_name": "Python 3",
   "language": "python",
   "name": "python3"
  },
  "language_info": {
   "codemirror_mode": {
    "name": "ipython",
    "version": 3
   },
   "file_extension": ".py",
   "mimetype": "text/x-python",
   "name": "python",
   "nbconvert_exporter": "python",
   "pygments_lexer": "ipython3",
   "version": "3.7.6"
  }
 },
 "nbformat": 4,
 "nbformat_minor": 4
}
